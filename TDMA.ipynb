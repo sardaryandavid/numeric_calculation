{
 "cells": [
  {
   "cell_type": "markdown",
   "id": "aa21dce5-9f88-48fe-acc6-259c8382341a",
   "metadata": {},
   "source": [
    "b - диагональ, лежащая над главной          (нумеруется: [0;n-1], b[n-1]=0)  \n",
    "c - главная диагональ матрицы A             (нумеруется: [0;n-1])  \n",
    "a - диагональ, лежащая под главной          (нумеруется: [0;n-1], a[0]=0)  \n",
    "f - правая часть (столбец)                  (нумеруется: [0;n-1])  \n",
    "x - решение, массив x будет содержать ответ (нумеруется: [0;n-1])  "
   ]
  },
  {
   "cell_type": "code",
   "execution_count": 3,
   "id": "11789a3c-be55-4f9d-b140-f905ce0987df",
   "metadata": {},
   "outputs": [],
   "source": [
    "def TDMA(a,b,c,f):\n",
    "    a, b, c, f = tuple(map(lambda k_list: list(map(float, k_list)), (a, b, c, f)))\n",
    "\n",
    "    alpha = [-b[0] / c[0]]\n",
    "    beta = [f[0] / c[0]]\n",
    "    n = len(f)\n",
    "    x = [0] * n\n",
    "\n",
    "    for i in range(1, n):\n",
    "        alpha.append(-b[i] / (a[i] * alpha[i-1] + c[i]))\n",
    "        beta.append((f[i] - a[i] * beta[i-1]) / (a[i] * alpha[i-1] + c[i]))\n",
    "\n",
    "    x[n-1] = beta[n - 1]\n",
    "\n",
    "    for i in range(n - 1, -1, -1):\n",
    "        x[i - 1] = alpha[i - 1] * x[i] + beta[i - 1]\n",
    "\n",
    "    return x"
   ]
  },
  {
   "cell_type": "code",
   "execution_count": 9,
   "id": "c6ff2ff1-236d-4271-a5b0-8628dca0c9b2",
   "metadata": {},
   "outputs": [
    {
     "name": "stdout",
     "output_type": "stream",
     "text": [
      "4\n"
     ]
    }
   ],
   "source": [
    "a = [0, -1, -1, -1]\n",
    "b = [-2, -2, -2, 0]\n",
    "c = [1, 1, 1, 1]\n",
    "f = [1, 2, 3, 4]\n",
    "\n",
    "x = TDMA(a, b, c, f)\n",
    "print(len(x))\n"
   ]
  }
 ],
 "metadata": {
  "kernelspec": {
   "display_name": "Python 3 (ipykernel)",
   "language": "python",
   "name": "python3"
  },
  "language_info": {
   "codemirror_mode": {
    "name": "ipython",
    "version": 3
   },
   "file_extension": ".py",
   "mimetype": "text/x-python",
   "name": "python",
   "nbconvert_exporter": "python",
   "pygments_lexer": "ipython3",
   "version": "3.12.2"
  }
 },
 "nbformat": 4,
 "nbformat_minor": 5
}
