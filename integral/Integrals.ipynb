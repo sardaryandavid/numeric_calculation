{
 "cells": [
  {
   "cell_type": "markdown",
   "id": "20e42738",
   "metadata": {},
   "source": [
    "# VII.9.5a)"
   ]
  },
  {
   "cell_type": "markdown",
   "id": "814f17ba",
   "metadata": {},
   "source": [
    "## Trapezoidal rule"
   ]
  },
  {
   "cell_type": "markdown",
   "id": "5e14b491",
   "metadata": {},
   "source": [
    "Так как сетка равномерная, воспользуемся формулой Котеса"
   ]
  },
  {
   "cell_type": "code",
   "execution_count": 109,
   "id": "102945fa",
   "metadata": {},
   "outputs": [
    {
     "name": "stdout",
     "output_type": "stream",
     "text": [
      "Integral in trapezoidal rule = 1.6031443749999998\n"
     ]
    }
   ],
   "source": [
    "x = [0.0, 0.25, 0.5, 0.75, 1.0, 1.25, 1.5, 1.75, 2.0]\n",
    "f = [1.000000, 0.989616, 0.958851, 0.908852, 0.841471,\n",
    "     0.759188, 0.664997, 0.562278, 0.454649]\n",
    "\n",
    "h = 0.25\n",
    "xs = len(x)\n",
    "sum = 0\n",
    "for i in range(1, xs - 1):\n",
    "    sum += f[i]\n",
    "sum += (f[0] + f[xs - 1]) / 2\n",
    "sum *= h\n",
    "print(f'Integral in trapezoidal rule = {sum}' )"
   ]
  },
  {
   "cell_type": "markdown",
   "id": "74bada95",
   "metadata": {},
   "source": [
    "## Richardson extrapolation"
   ]
  },
  {
   "cell_type": "code",
   "execution_count": 110,
   "id": "d5b98705",
   "metadata": {},
   "outputs": [
    {
     "name": "stdout",
     "output_type": "stream",
     "text": [
      "Integral in Richardson extrapolation = 1.6054185833333332\n"
     ]
    }
   ],
   "source": [
    "sum_2h = 0\n",
    "p = 2\n",
    "for i in range(0, xs - 1, 2):\n",
    "    sum_2h += (f[i] + f[i + 2]) * (x[i + 2] - x[i]) / 2\n",
    "rint = sum + (sum - sum_2h) / (2 ** p - 1)\n",
    "print(f'Integral in Richardson extrapolation = {rint}')"
   ]
  },
  {
   "cell_type": "markdown",
   "id": "720fedac",
   "metadata": {},
   "source": [
    "# Simpson's rule"
   ]
  },
  {
   "cell_type": "code",
   "execution_count": 111,
   "id": "62199b96",
   "metadata": {},
   "outputs": [
    {
     "name": "stdout",
     "output_type": "stream",
     "text": [
      "Integral in Simpson's rule = 1.6054185833333332\n"
     ]
    }
   ],
   "source": [
    "ssum = 0\n",
    "for i in range(0, xs - 1, 2):\n",
    "    ssum += (x[i + 2] - x[i]) * (f[i + 2] + f[i] + 4 * f[i + 1]) / 6\n",
    "print(f'Integral in Simpson\\'s rule = {ssum}')"
   ]
  },
  {
   "cell_type": "markdown",
   "id": "ec73cacd",
   "metadata": {},
   "source": [
    "Видно, что уточненный результат экстраполяцией Ричардсона совпал с результатом, полученным правилом Симпсона"
   ]
  },
  {
   "cell_type": "markdown",
   "id": "806d9fb8",
   "metadata": {},
   "source": [
    "# VII.9.13a)"
   ]
  },
  {
   "cell_type": "code",
   "execution_count": 112,
   "id": "fe00843f",
   "metadata": {},
   "outputs": [],
   "source": [
    "def tridiagonal_matrix_algorithm(A, f):\n",
    "    N = len(f)\n",
    "    a = [0.0 for i in range(N)]\n",
    "    b = [0.0 for i in range(N)]\n",
    "    c = [0.0 for i in range(N)]\n",
    "    \n",
    "    for i in range(N):\n",
    "        b[i] = A[i][i]    \n",
    "        if (i > 0):\n",
    "            a[i] = A[i][i - 1]\n",
    "        if (i < N - 1):\n",
    "            c[i] = A[i][i + 1]\n",
    "    \n",
    "    p = [0.0 for i in range(N)]\n",
    "    r = [0.0 for i in range(N)]\n",
    "    \n",
    "    p[0] = c[0] / b[0]\n",
    "    r[0] = f[0] / b[0]\n",
    "    for i in range(1, N):\n",
    "        p[i] = c[i] / (b[i] - a[i] * p[i - 1])\n",
    "        r[i] = (f[i] - a[i] * r[i - 1]) / (b[i] - a[i] * p[i - 1])\n",
    "    \n",
    "    x = [0.0 for i in range(N)]\n",
    "    x[N - 1] = r[N - 1]\n",
    "    for i in range(N - 2, -1, -1):\n",
    "        x[i] = r[i] - p[i] * x[i + 1]\n",
    "\n",
    "    return x"
   ]
  },
  {
   "cell_type": "code",
   "execution_count": 127,
   "id": "b9b64565",
   "metadata": {},
   "outputs": [
    {
     "data": {
      "text/plain": [
       "Text(0, 0.5, 'f(x)')"
      ]
     },
     "execution_count": 127,
     "metadata": {},
     "output_type": "execute_result"
    },
    {
     "data": {
      "image/png": "[encoded data removed]",
      "text/plain": [
       "<Figure size 640x480 with 1 Axes>"
      ]
     },
     "metadata": {},
     "output_type": "display_data"
    }
   ],
   "source": [
    "import matplotlib.pyplot as plt\n",
    "\n",
    "x = [0, 1, 2, 3, 4]\n",
    "y = [0.00000, 0.50000, 0.86603, 1.00000, 0.86603]\n",
    "k = 50\n",
    "\n",
    "n = len(x)\n",
    "f = [[0.0] * n for i in range(n)]\n",
    "for i in range(n):\n",
    "    f[i][0] = y[i]\n",
    "    \n",
    "for j in range(1, n):\n",
    "    for i in range(j, n):\n",
    "        f[i][j] = (f[i][j - 1] - f[i - 1][j - 1]) / (x[i] - x[i - j])\n",
    "\n",
    "N = n - 1\n",
    "a = [0.0 for i in range(N)]\n",
    "b = [0.0 for i in range(N)]\n",
    "d = [0.0 for i in range(N)]\n",
    "h = [0.0 for i in range(N)]\n",
    "\n",
    "# find h[i]\n",
    "for i in range(N):\n",
    "    h[i] = x[i + 1] - x[i]\n",
    "\n",
    "# find c[i]\n",
    "A = [[0.0] * (N - 1) for i in range(N - 1)]\n",
    "for i in range(1, N - 2): \n",
    "    A[i][i] = 2\n",
    "    A[i][i - 1] = h[i] / (h[i] + h[i + 1])\n",
    "    A[i][i + 1] = h[i + 1] / (h[i] + h[i + 1])\n",
    "A[0][0] = 2\n",
    "A[0][1] = h[1] / (h[0] + h[1])\n",
    "A[N - 2][N - 2] = 2\n",
    "A[N - 2][N - 3] = h[N - 2] / (h[N - 2] + h[N - 1])\n",
    "\n",
    "p = 2\n",
    "u = [0.0] * (N - 1)\n",
    "for i in range(N - 1):\n",
    "    u[i] = 6 * f[i + p][2]\n",
    "    \n",
    "c = tridiagonal_matrix_algorithm(A, u)\n",
    "c.append(0)\n",
    "\n",
    "#find a[i], d[i]\n",
    "for i in range(1, N):\n",
    "    a[i] = y[i + 1]\n",
    "    d[i] = (c[i] - c[i - 1]) / h[i]\n",
    "a[0] = y[1]\n",
    "d[0] = c[0] / h[0]\n",
    "\n",
    "#find b[i]\n",
    "p = 1\n",
    "for i in range(1, N):\n",
    "    b[i] = c[i] * h[i] / 3 + c[i - 1] * h[i] / 6 + f[i + p][1]\n",
    "b[0] = c[0] * h[0] / 3 + f[p][1]\n",
    "\n",
    "gr_y = []\n",
    "gr_x = list(i / 10000 for i in range(40000))\n",
    "xb = 0\n",
    "xs = len(gr_x)\n",
    "for j in range(xs):\n",
    "    N = int(gr_x[j])\n",
    "    if (N >= n - 1):\n",
    "        N = n - 2\n",
    "    \n",
    "    sum1 = a[N]\n",
    "    sum2 = b[N] * (gr_x[j] - x[N + 1])\n",
    "    sum3 = c[N] * (gr_x[j] - x[N + 1]) * (gr_x[j] - x[N + 1]) / 2\n",
    "    sum4 = d[N] * (gr_x[j] - x[N + 1]) * (gr_x[j] - x[N + 1]) * (gr_x[j] - x[N + 1]) / 6\n",
    "    sum = sum1 + sum2 + sum3 + sum4\n",
    "    gr_y.append(sum)\n",
    "\n",
    "plt.plot(gr_x, gr_y, 'go', linestyle = '--')\n",
    "plt.xlabel(\"x\")\n",
    "plt.ylabel(\"f(x)\")"
   ]
  },
  {
   "cell_type": "markdown",
   "id": "6ecb3b60",
   "metadata": {},
   "source": [
    "find $\\int_{0}^{4}f(x)\\sin{kx}dx$"
   ]
  },
  {
   "cell_type": "code",
   "execution_count": 128,
   "id": "bcfa2670",
   "metadata": {},
   "outputs": [
    {
     "name": "stdout",
     "output_type": "stream",
     "text": [
      "Integral = -0.008219790012085226\n"
     ]
    }
   ],
   "source": [
    "import math\n",
    "n = len(gr_x)\n",
    "sum = 0\n",
    "for i in range(0, n - 2, 2):\n",
    "    s3 = gr_y[i + 2] * math.sin(k * gr_x[i + 2])\n",
    "    s2 = gr_y[i + 1] * math.sin(k * gr_x[i + 1])\n",
    "    s1 = gr_y[i] * math.sin(k * gr_x[i])\n",
    "    sum += (gr_x[i + 2] - gr_x[i]) * (s1 + 4 * s2 + s3) / 6\n",
    "print(f'Integral = {sum}')"
   ]
  }
 ],
 "metadata": {
  "kernelspec": {
   "display_name": "Python 3 (ipykernel)",
   "language": "python",
   "name": "python3"
  },
  "language_info": {
   "codemirror_mode": {
    "name": "ipython",
    "version": 3
   },
   "file_extension": ".py",
   "mimetype": "text/x-python",
   "name": "python",
   "nbconvert_exporter": "python",
   "pygments_lexer": "ipython3",
   "version": "3.11.4"
  }
 },
 "nbformat": 4,
 "nbformat_minor": 5
}
